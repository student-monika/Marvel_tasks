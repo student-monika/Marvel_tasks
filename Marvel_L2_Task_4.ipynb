{
  "nbformat": 4,
  "nbformat_minor": 0,
  "metadata": {
    "colab": {
      "provenance": [],
      "authorship_tag": "ABX9TyP/LTLP7Co3/C02kG/97Zvv",
      "include_colab_link": true
    },
    "kernelspec": {
      "name": "python3",
      "display_name": "Python 3"
    },
    "language_info": {
      "name": "python"
    }
  },
  "cells": [
    {
      "cell_type": "markdown",
      "metadata": {
        "id": "view-in-github",
        "colab_type": "text"
      },
      "source": [
        "<a href=\"https://colab.research.google.com/github/student-monika/Marvel_tasks/blob/main/Marvel_L2_Task_4.ipynb\" target=\"_parent\"><img src=\"https://colab.research.google.com/assets/colab-badge.svg\" alt=\"Open In Colab\"/></a>"
      ]
    },
    {
      "cell_type": "markdown",
      "source": [
        "Regression metrics\n",
        "-> California housing dataset"
      ],
      "metadata": {
        "id": "wngRKyEdEoOV"
      }
    },
    {
      "cell_type": "code",
      "source": [
        "# Import necessary libraries\n",
        "from sklearn.datasets import fetch_california_housing\n",
        "from sklearn.model_selection import train_test_split\n",
        "from sklearn.linear_model import LinearRegression\n",
        "from sklearn.metrics import mean_absolute_error, mean_squared_error, r2_score\n",
        "import numpy as np\n",
        "\n",
        "# Step 1: Load the California Housing dataset\n",
        "data = fetch_california_housing()\n",
        "X, y = data.data, data.target\n",
        "\n",
        "# Step 2: Split the data into training and testing sets\n",
        "X_train, X_test, y_train, y_test = train_test_split(X, y, test_size=0.3, random_state=42)\n",
        "\n",
        "# Step 3: Fit a Linear Regression model\n",
        "model = LinearRegression()\n",
        "model.fit(X_train, y_train)\n",
        "\n",
        "# Step 4: Make predictions on the test set\n",
        "y_pred = model.predict(X_test)\n",
        "\n",
        "# Step 5: Calculate Regression Metrics\n",
        "mae = mean_absolute_error(y_test, y_pred)  # Mean Absolute Error\n",
        "mse = mean_squared_error(y_test, y_pred)  # Mean Squared Error\n",
        "rmse = np.sqrt(mse)  # Root Mean Squared Error\n",
        "r2 = r2_score(y_test, y_pred)  # R-squared\n",
        "\n",
        "# Step 6: Print the regression metrics\n",
        "print(\"Mean Absolute Error (MAE):\", mae)\n",
        "print(\"Mean Squared Error (MSE):\", mse)\n",
        "print(\"Root Mean Squared Error (RMSE):\", rmse)\n",
        "print(\"R-squared (R²):\", r2)\n"
      ],
      "metadata": {
        "colab": {
          "base_uri": "https://localhost:8080/"
        },
        "id": "1tLL3H5bgiS2",
        "outputId": "923b223e-002e-4b23-cbb1-110ce01afdd4"
      },
      "execution_count": null,
      "outputs": [
        {
          "output_type": "stream",
          "name": "stdout",
          "text": [
            "Mean Absolute Error (MAE): 0.5272474538306174\n",
            "Mean Squared Error (MSE): 0.5305677824766757\n",
            "Root Mean Squared Error (RMSE): 0.7284008391515455\n",
            "R-squared (R²): 0.595770232606166\n"
          ]
        }
      ]
    },
    {
      "cell_type": "markdown",
      "source": [
        "Classification metrics\n",
        "-> Wine data set"
      ],
      "metadata": {
        "id": "ieKjNdWPE2u9"
      }
    },
    {
      "cell_type": "code",
      "source": [
        "# Import necessary libraries\n",
        "from sklearn.datasets import load_wine\n",
        "from sklearn.model_selection import train_test_split\n",
        "from sklearn.preprocessing import StandardScaler\n",
        "from sklearn.linear_model import LogisticRegression\n",
        "from sklearn.metrics import accuracy_score, precision_score, recall_score, f1_score, confusion_matrix\n",
        "\n",
        "# Step 1: Load the Wine dataset\n",
        "wine_data = load_wine()\n",
        "X, y = wine_data.data, wine_data.target\n",
        "\n",
        "# Step 2: Scale the features\n",
        "scaler = StandardScaler()\n",
        "X_scaled = scaler.fit_transform(X)\n",
        "\n",
        "# Step 3: Split the scaled data into training and testing sets\n",
        "X_train, X_test, y_train, y_test = train_test_split(X_scaled, y, test_size=0.3, random_state=42)\n",
        "\n",
        "# Step 4: Fit a Logistic Regression model with increased max_iter and a different solver\n",
        "classifier = LogisticRegression(max_iter=500, solver='liblinear')\n",
        "classifier.fit(X_train, y_train)\n",
        "\n",
        "# Step 5: Make predictions on the test set\n",
        "y_pred = classifier.predict(X_test)\n",
        "\n",
        "# Step 6: Calculate Classification Metrics\n",
        "accuracy = accuracy_score(y_test, y_pred)  # Accuracy\n",
        "precision = precision_score(y_test, y_pred, average='weighted')  # Precision\n",
        "recall = recall_score(y_test, y_pred, average='weighted')  # Recall\n",
        "f1 = f1_score(y_test, y_pred, average='weighted')  # F1 Score\n",
        "conf_matrix = confusion_matrix(y_test, y_pred)  # Confusion Matrix\n",
        "\n",
        "# Step 7: Print classification metrics\n",
        "print(\"Accuracy:\", accuracy)\n",
        "print(\"Precision:\", precision)\n",
        "print(\"Recall:\", recall)\n",
        "print(\"F1 Score:\", f1)\n",
        "print(\"Confusion Matrix:\\n\", conf_matrix)\n"
      ],
      "metadata": {
        "colab": {
          "base_uri": "https://localhost:8080/"
        },
        "id": "OL9-loNt4cN4",
        "outputId": "d7e457c6-9d95-4b49-86b8-5e94b042f54b"
      },
      "execution_count": null,
      "outputs": [
        {
          "output_type": "stream",
          "name": "stdout",
          "text": [
            "Accuracy: 0.9814814814814815\n",
            "Precision: 0.9824074074074074\n",
            "Recall: 0.9814814814814815\n",
            "F1 Score: 0.9814930627938757\n",
            "Confusion Matrix:\n",
            " [[19  0  0]\n",
            " [ 1 20  0]\n",
            " [ 0  0 14]]\n"
          ]
        }
      ]
    }
  ]
}