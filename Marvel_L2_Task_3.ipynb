{
  "nbformat": 4,
  "nbformat_minor": 0,
  "metadata": {
    "colab": {
      "provenance": [],
      "authorship_tag": "ABX9TyOYAyCv+eIgQ8oN1COT4/R5",
      "include_colab_link": true
    },
    "kernelspec": {
      "name": "python3",
      "display_name": "Python 3"
    },
    "language_info": {
      "name": "python"
    }
  },
  "cells": [
    {
      "cell_type": "markdown",
      "metadata": {
        "id": "view-in-github",
        "colab_type": "text"
      },
      "source": [
        "<a href=\"https://colab.research.google.com/github/student-monika/Marvel_tasks/blob/main/Marvel_L2_Task_3.ipynb\" target=\"_parent\"><img src=\"https://colab.research.google.com/assets/colab-badge.svg\" alt=\"Open In Colab\"/></a>"
      ]
    },
    {
      "cell_type": "code",
      "source": [
        "import numpy as np\n",
        "\n",
        "# Define a small array\n",
        "small_array = np.array([[1, 2], [3, 4]])\n",
        "\n",
        "# Repeat the small array across each dimension\n",
        "repeated_array = np.tile(small_array, (2, 3))\n",
        "\n",
        "print(\"Repeated Array:\\n\", repeated_array)\n",
        "\n",
        "# Task 2: Generate an array with element indexes such that the array elements appear in ascending order\n",
        "\n",
        "# Define an array\n",
        "arr = np.array([50, 20, 30, 10, 40])\n",
        "\n",
        "# Get an array of indexes that would sort the array\n",
        "sorted_indices = np.argsort(arr)\n",
        "\n",
        "print(\"\\nOriginal Array:\", arr)\n",
        "print(\"Sorted Indices:\", sorted_indices)\n"
      ],
      "metadata": {
        "colab": {
          "base_uri": "https://localhost:8080/"
        },
        "id": "o-z18-4mEPKH",
        "outputId": "f286cace-577c-4ab8-800c-a0ae47830917"
      },
      "execution_count": null,
      "outputs": [
        {
          "output_type": "stream",
          "name": "stdout",
          "text": [
            "Repeated Array:\n",
            " [[1 2 1 2 1 2]\n",
            " [3 4 3 4 3 4]\n",
            " [1 2 1 2 1 2]\n",
            " [3 4 3 4 3 4]]\n",
            "\n",
            "Original Array: [50 20 30 10 40]\n",
            "Sorted Indices: [3 1 2 4 0]\n"
          ]
        }
      ]
    }
  ]
}